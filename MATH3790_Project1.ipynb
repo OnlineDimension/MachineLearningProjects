{
  "nbformat": 4,
  "nbformat_minor": 0,
  "metadata": {
    "colab": {
      "provenance": [],
      "collapsed_sections": [
        "s0S0Bbz6iB5V"
      ]
    },
    "kernelspec": {
      "name": "python3",
      "display_name": "Python 3"
    },
    "language_info": {
      "name": "python"
    }
  },
  "cells": [
    {
      "cell_type": "markdown",
      "source": [
        "# Sentiment Analysis Project\n",
        "\n",
        "The goal of this project is to design a classifier to use for sentiment analysis of product reviews. Our training set consists of reviews written by Amazon customers for various food products. The reviews, originally given on a 5 point scale, have been adjusted to a +1 or -1 scale, representing a positive or negative review, respectively.\n",
        "\n",
        "Below are two example entries from our dataset. Each entry consists of the review and its label. The two reviews were written by different customers describing their experience with a sugar-free candy.\n",
        "\n",
        "- Review: Nasty No flavor. The candy is just red, No flavor. Just plain and chewy. I would never buy them again\n",
        "  - Label: -1\n",
        "- Review: YUMMY! You would never guess that they're sugar-free and it's so great that you can eat them pretty much guilt free! I was so impressed that I've ordered some for myself (vanilla chocolate) to take to the office. These are EXCELLENT!\n",
        "  - Label: 1\n",
        "\n",
        "In order to automatically analyze reviews, you will need to complete the following tasks:\n",
        "\n",
        "1. Implement and compare three types of linear classifiers: the perceptron algorithm, the average perceptron algorithm, and the Pegasos algorithm.\n",
        "2. Use your classifiers on the food review dataset, using some simple text features.\n",
        "3. Experiment with additional features and explore their impact on classifier performance.\n",
        "\n",
        "## Setup Details\n",
        "\n",
        "Throughout the course we will be using Python 3.6 with some additional libraries. We strongly recommend that you take note of how the NumPy numerical library is used in the code provided, and read through the on-line NumPy tutorial. NumPy arrays are much more efficient than Python's native arrays when doing numerical computation. In addition, using NumPy will substantially reduce the lines of code you will need to write.\n",
        "\n",
        "### Note on software:\n",
        "\n",
        "For this project, you will need the NumPy numerical toolbox, and the matplotlib plotting toolbox.\n",
        "\n",
        "### Download Sentiment Analysis\n",
        "\n",
        "Download `sentiment_analysis.tar.gz` and untar it into a working directory. The `sentiment_analysis` folder contains various data files in `.tsv` format, along with the following python files:\n",
        "  - `project1.py` contains various useful functions and function templates that you will use to implement your learning algorithms.\n",
        "  - `main.py` is a script skeleton where these functions are called and you can run your experiments.\n",
        "  - `utils.py` contains utility functions that the staff has implemented for you.\n",
        "  - `test.py` is a script which runs tests on a few of the methods you will implement. Note that these tests are provided to help you debug your implementation and are not necessarily representative of the tests used for online grading. Feel free to add more test cases locally to further validate the correctness of your code before submitting to the online graders in the codeboxes.\n",
        "\n",
        "**Tip**: Throughout the whole notebook, you can assume the NumPy python library is already imported as `np`. In some problems you will also have access to python's `random` library, and other functions you've already implemented.\n",
        "\n",
        "This project will unfold on your local machine. You are welcome to implement functions locally and run `test.py` to validate basic functionality, and then copy+paste your code into the notebook code boxes before submitting the notebook back on Canvas. Alternatively, you can also implement the functions in the notebook first and after finishing, copy+paste the solution to your local `project1.py` file.\n",
        "\n",
        "### How to Test Locally\n",
        "\n",
        "- In your terminal, navigate to the directory where your project files reside.\n",
        "- Execute the command `python test.py` to run all the available tests.\n",
        "\n",
        "### How to Run your Project 1 Functions Locally\n",
        "\n",
        "- In your terminal, enter `python main.py`. You will need to uncomment/comment the relevant code as you progress through the project.\n"
      ],
      "metadata": {
        "id": "HQEh69WSiuz4"
      }
    },
    {
      "cell_type": "markdown",
      "source": [
        "# Hinge Loss\n",
        "\n",
        "In this project you will be implementing linear classifiers beginning with the Perceptron algorithm. You will begin by writing your loss function, a hinge-loss function. For this function you are given the parameters of your model $\\theta$ and $\\theta_0$. Additionally, you are given a feature matrix in which the rows are feature vectors and the columns are individual features, and a vector of labels representing the actual sentiment of the corresponding feature vector.\n",
        "\n",
        "\n",
        "## Hinge Loss on One Data Sample\n",
        "\n",
        "**1 point**\n",
        "\n",
        "\n",
        "\n",
        "\n",
        "First, implement the basic hinge loss calculation on a single data-point. Instead of the entire feature matrix, you are given one row, representing the feature vector of a single data sample, and its label of `+1` or `-1` representing the ground truth sentiment of the data sample.\n",
        "\n",
        "**Reminder**: You can implement this function locally first, and run `python test.py` in your `sentiment_analysis` directory to validate basic functionality before submitting.\n",
        "\n",
        "**Available Functions**: You have access to the NumPy python library as `np`; No need to import anything.\n"
      ],
      "metadata": {
        "id": "s0S0Bbz6iB5V"
      }
    },
    {
      "cell_type": "code",
      "execution_count": null,
      "metadata": {
        "id": "HTPaXmI7egIA"
      },
      "outputs": [],
      "source": [
        "def hinge_loss_single(feature_vector, label, theta, theta_0):\n",
        "    \"\"\"\n",
        "    Finds the hinge loss on a single data point given specific classification\n",
        "    parameters.\n",
        "\n",
        "    Args:\n",
        "        feature_vector - A numpy array describing the given data point.\n",
        "        label - A real valued number, the correct classification of the data\n",
        "            point.\n",
        "        theta - A numpy array describing the linear classifier.\n",
        "        theta_0 - A real valued number representing the offset parameter.\n",
        "\n",
        "\n",
        "    Returns: A real number representing the hinge loss associated with the\n",
        "    given data point and parameters.\n",
        "    \"\"\"\n",
        "    # Your code here"
      ]
    },
    {
      "cell_type": "markdown",
      "source": [
        "# The Complete Hinge Loss\n",
        "\n",
        "**1 point**\n",
        "\n",
        "Now it's time to implement the complete hinge loss for a full set of data. Your input will be a full feature matrix this time, and you will have a vector of corresponding labels. The $k^{th}$ row of the feature matrix corresponds to the $k^{th}$ element of the labels vector. This function should return the appropriate loss of the classifier on the given dataset.\n",
        "\n",
        "**Available Functions**: You have access to the NumPy python library as `np`, and your previous function as `hinge_loss_single`.\n"
      ],
      "metadata": {
        "id": "UcZkZ5IpjNvo"
      }
    },
    {
      "cell_type": "code",
      "source": [
        "def hinge_loss_full(feature_matrix, labels, theta, theta_0):\n",
        "    \"\"\"\n",
        "    Finds the total hinge loss on a set of data given specific classification\n",
        "    parameters.\n",
        "\n",
        "    Args:\n",
        "        feature_matrix - A numpy matrix describing the given data. Each row\n",
        "            represents a single data point.\n",
        "        labels - A numpy array where the kth element of the array is the\n",
        "            correct classification of the kth row of the feature matrix.\n",
        "        theta - A numpy array describing the linear classifier.\n",
        "        theta_0 - A real valued number representing the offset parameter.\n",
        "\n",
        "\n",
        "    Returns: A real number representing the hinge loss associated with the\n",
        "    given dataset and parameters. This number should be the average hinge\n",
        "    loss across all of the points in the feature matrix.\n",
        "    \"\"\"\n",
        "    # Your code here"
      ],
      "metadata": {
        "id": "Sa43fat7j019"
      },
      "execution_count": null,
      "outputs": []
    },
    {
      "cell_type": "markdown",
      "source": [
        "# Perceptron Single Step Update\n",
        "\n",
        "**1 point**\n",
        "\n",
        "Now you will implement the single step update for the perceptron algorithm (implemented with 0 − 1 loss). You will be given the feature vector as an array of numbers, the current $\\theta$ and $\\theta_0$ parameters, and the correct label of the feature vector. The function should return a tuple in which the first element is the correctly updated value of $\\theta$ and the second element is the correctly updated value of $\\theta_0$.\n",
        "\n",
        "**Available Functions**: You have access to the NumPy python library as `np`.\n",
        "\n",
        "**Tip**: Because of numerical instabilities, it is preferable to identify 0 with a small range $[- \\epsilon, \\epsilon]$. That is, when $x$ is a float, $x=0$ (`x==0`) should be checked with $|x| < \\epsilon$ (`np.abs(x) < epsilon`).\n"
      ],
      "metadata": {
        "id": "KkrS9PTSkB9h"
      }
    },
    {
      "cell_type": "code",
      "source": [
        "def perceptron_single_step_update(\n",
        "        feature_vector,\n",
        "        label,\n",
        "        current_theta,\n",
        "        current_theta_0):\n",
        "    \"\"\"\n",
        "    Properly updates the classification parameter, theta and theta_0, on a\n",
        "    single step of the perceptron algorithm.\n",
        "\n",
        "    Args:\n",
        "        feature_vector - A numpy array describing a single data point.\n",
        "        label - The correct classification of the feature vector.\n",
        "        current_theta - The current theta being used by the perceptron\n",
        "            algorithm before this update.\n",
        "        current_theta_0 - The current theta_0 being used by the perceptron\n",
        "            algorithm before this update.\n",
        "\n",
        "    Returns: A tuple where the first element is a numpy array with the value of\n",
        "    theta after the current update has completed and the second element is a\n",
        "    real valued number with the value of theta_0 after the current updated has\n",
        "    completed.\n",
        "    \"\"\"\n",
        "    # Your code here"
      ],
      "metadata": {
        "id": "lNUgY6hZk1Z2"
      },
      "execution_count": null,
      "outputs": []
    },
    {
      "cell_type": "markdown",
      "source": [
        "# Full Perceptron Algorithm\n",
        "\n",
        "**1 point**\n",
        "\n",
        "In this step you will implement the full perceptron algorithm. You will be given the same feature matrix and labels array as you were given in *The Complete Hinge Loss*. You will also be given $T$, the maximum number of times that you should iterate through the feature matrix before terminating the algorithm. Initialize $\\theta$ and $\\theta_0$ to zero. This function should return a tuple in which the first element is the final value of $\\theta$ and the second element is the value of $\\theta_0$.\n",
        "\n",
        "**Tip**: Call the function `perceptron_single_step_update` directly without coding it again.\n",
        "\n",
        "**Hint**: Make sure you initialize `theta` to a 1D array of shape $(n,)$ and not a 2D array of shape $(1, n)$.\n",
        "\n",
        "**Note**: Please call `get_order(feature_matrix.shape[0])`, and use the ordering to iterate the feature matrix in each iteration. The ordering is specified due to grading purpose. In practice, people typically just randomly shuffle indices to do stochastic optimization.\n",
        "\n",
        "**Available Functions**: You have access to the NumPy python library as `np` and `perceptron_single_step_update` which you have already implemented.\n"
      ],
      "metadata": {
        "id": "CPgC9Uy1k3Q0"
      }
    },
    {
      "cell_type": "code",
      "source": [
        "def perceptron(feature_matrix, labels, T):\n",
        "    \"\"\"\n",
        "    Runs the full perceptron algorithm on a given set of data. Runs T\n",
        "    iterations through the data set, there is no need to worry about\n",
        "    stopping early.\n",
        "\n",
        "    NOTE: Please use the previously implemented functions when applicable.\n",
        "    Do not copy paste code from previous parts.\n",
        "\n",
        "    NOTE: Iterate the data matrix by the orders returned by get_order(feature_matrix.shape[0])\n",
        "\n",
        "    Args:\n",
        "        feature_matrix -  A numpy matrix describing the given data. Each row\n",
        "            represents a single data point.\n",
        "        labels - A numpy array where the kth element of the array is the\n",
        "            correct classification of the kth row of the feature matrix.\n",
        "        T - An integer indicating how many times the perceptron algorithm\n",
        "            should iterate through the feature matrix.\n",
        "\n",
        "    Returns: A tuple where the first element is a numpy array with the value of\n",
        "    theta, the linear classification parameter, after T iterations through the\n",
        "    feature matrix and the second element is a real number with the value of\n",
        "    theta_0, the offset classification parameter, after T iterations through\n",
        "    the feature matrix.\n",
        "    \"\"\"\n",
        "    # Your code here"
      ],
      "metadata": {
        "id": "rTglQynXlgv5"
      },
      "execution_count": null,
      "outputs": []
    },
    {
      "cell_type": "markdown",
      "source": [
        "# Average Perceptron Algorithm\n",
        "\n",
        "**1 point**\n",
        "\n",
        "The average perceptron will add a modification to the original perceptron algorithm: since the basic algorithm continues updating as the algorithm runs, nudging parameters in possibly conflicting directions, it is better to take an average of those parameters as the final answer. Every update of the algorithm is the same as before. The returned parameters $\\theta$, however, are an average of the $\\theta$s across the $nT$ steps:\n",
        "\n",
        "$$\n",
        "\\theta_{final} = \\frac{1}{nT} (\\theta^{(1)} + \\theta^{(2)} + \\ldots + \\theta^{(nT)})\n",
        "$$\n",
        "\n",
        "You will now implement the average perceptron algorithm. This function should be constructed similarly to the Full Perceptron Algorithm above, except that it should return the average values of $\\theta$ and $\\theta_0$\n",
        "\n",
        "**Tip**: Tracking a moving average through loops is difficult, but tracking a sum through loops is simple.\n",
        "\n",
        "**Note**: Please call `get_order(feature_matrix.shape[0])`, and use the ordering to iterate the feature matrix in each iteration. The ordering is specified due to grading purpose. In practice, people typically just randomly shuffle indices to do stochastic optimization.\n",
        "\n",
        "**Available Functions**: You have access to the NumPy python library as `np` and `perceptron_single_step_update` which you have already implemented.\n"
      ],
      "metadata": {
        "id": "5jMERl2ulizv"
      }
    },
    {
      "cell_type": "code",
      "source": [
        "def average_perceptron(feature_matrix, labels, T):\n",
        "    \"\"\"\n",
        "    Runs the average perceptron algorithm on a given set of data. Runs T\n",
        "    iterations through the data set, there is no need to worry about\n",
        "    stopping early.\n",
        "\n",
        "    NOTE: Please use the previously implemented functions when applicable.\n",
        "    Do not copy paste code from previous parts.\n",
        "\n",
        "    NOTE: Iterate the data matrix by the orders returned by get_order(feature_matrix.shape[0])\n",
        "\n",
        "\n",
        "    Args:\n",
        "        feature_matrix -  A numpy matrix describing the given data. Each row\n",
        "            represents a single data point.\n",
        "        labels - A numpy array where the kth element of the array is the\n",
        "            correct classification of the kth row of the feature matrix.\n",
        "        T - An integer indicating how many times the perceptron algorithm\n",
        "            should iterate through the feature matrix.\n",
        "\n",
        "    Returns: A tuple where the first element is a numpy array with the value of\n",
        "    the average theta, the linear classification parameter, found after T\n",
        "    iterations through the feature matrix and the second element is a real\n",
        "    number with the value of the average theta_0, the offset classification\n",
        "    parameter, found after T iterations through the feature matrix.\n",
        "\n",
        "    Hint: It is difficult to keep a running average; however, it is simple to\n",
        "    find a sum and divide.\n",
        "    \"\"\"\n",
        "    # Your code here"
      ],
      "metadata": {
        "id": "832c4qrRmuwU"
      },
      "execution_count": null,
      "outputs": []
    },
    {
      "cell_type": "markdown",
      "source": [
        "# Pegasos Algorithm\n",
        "\n",
        "Now you will implement the Pegasos algorithm. For more information, refer to the original paper at original paper.\n",
        "\n",
        "The following pseudo-code describes the Pegasos update rule.\n",
        "\n",
        "**Pegasos update rule** $\\left(x^{(i)}, y^{(i)}, \\lambda, \\eta, \\theta \\right)$:\n",
        "\n",
        "If $y^{(i)} \\left(\\theta \\cdot x^{(i)}\\right) \\leq 1$ then\n",
        "\n",
        "$$\n",
        "\\text{update } \\theta = (1 - \\eta\\lambda) \\theta + \\eta y^{(i)} x^{(i)}\n",
        "$$\n",
        "\n",
        "else:\n",
        "\n",
        "$$\n",
        "\\text{update } \\theta = (1 - \\eta\\lambda) \\theta\n",
        "$$\n",
        "\n",
        "The $\\eta$ parameter is a decaying factor that will decrease over time. The $\\lambda$ parameter is a regularizing parameter.\n",
        "\n",
        "In this problem, you will need to adapt this update rule to add a bias term $\\theta_0$ to the hypothesis, but take care not to penalize the magnitude of $\\theta_0$.\n",
        "\n",
        "---\n",
        "\n",
        "# Pegasos Single Step Update\n",
        "\n",
        "**1 point**\n",
        "\n",
        "Next you will implement the single step update for the Pegasos algorithm. This function is very similar to the function that you implemented in *Perceptron Single Step Update*, except that it should utilize the Pegasos parameter update rules instead of those for perceptron. The function will also be passed a $ \\lambda $ and $ \\eta $ value to use for updates.\n",
        "\n",
        "**Available Functions**: You have access to the NumPy python library as `np`.\n"
      ],
      "metadata": {
        "id": "WZl3daEenIW5"
      }
    },
    {
      "cell_type": "code",
      "source": [
        "def pegasos_single_step_update(\n",
        "        feature_vector,\n",
        "        label,\n",
        "        L,\n",
        "        eta,\n",
        "        current_theta,\n",
        "        current_theta_0):\n",
        "    \"\"\"\n",
        "    Properly updates the classification parameter, theta and theta_0, on a\n",
        "    single step of the Pegasos algorithm\n",
        "\n",
        "    Args:\n",
        "        feature_vector - A numpy array describing a single data point.\n",
        "        label - The correct classification of the feature vector.\n",
        "        L - The lamba value being used to update the parameters.\n",
        "        eta - Learning rate to update parameters.\n",
        "        current_theta - The current theta being used by the Pegasos\n",
        "            algorithm before this update.\n",
        "        current_theta_0 - The current theta_0 being used by the\n",
        "            Pegasos algorithm before this update.\n",
        "\n",
        "    Returns: A tuple where the first element is a numpy array with the value of\n",
        "    theta after the current update has completed and the second element is a\n",
        "    real valued number with the value of theta_0 after the current updated has\n",
        "    completed.\n",
        "    \"\"\"\n",
        "    # Your code here"
      ],
      "metadata": {
        "id": "TC__yYmoo8z7"
      },
      "execution_count": null,
      "outputs": []
    },
    {
      "cell_type": "markdown",
      "source": [
        "# Full Pegasos Algorithm\n",
        "\n",
        "**1 point**\n",
        "\n",
        "Finally, you will implement the full Pegasos algorithm. You will be given the same feature matrix and labels array as you were given in *Full Perceptron Algorithm*. You will also be given $T$, the maximum number of times that you should iterate through the feature matrix before terminating the algorithm. Initialize $\\theta$ and $\\theta_0$ to zero. For each update, set $\\eta = \\frac{1}{\\sqrt{t}}$ where $t$ is a counter for the number of updates performed so far (between 1 and $nT$ inclusive). This function should return a tuple in which the first element is the final value of $\\theta$ and the second element is the value of $\\theta_0$.\n",
        "\n",
        "**Note**: Please call `get_order(feature_matrix.shape[0])`, and use the ordering to iterate the feature matrix in each iteration. The ordering is specified due to grading purpose. In practice, people typically just randomly shuffle indices to do stochastic optimization.\n",
        "\n",
        "**Available Functions**: You have access to the NumPy python library as `np` and `pegasos_single_step_update` which you have already implemented.\n"
      ],
      "metadata": {
        "id": "H6Q0kbsQp6OY"
      }
    },
    {
      "cell_type": "code",
      "source": [
        "def pegasos(feature_matrix, labels, T, L):\n",
        "    \"\"\"\n",
        "    Runs the Pegasos algorithm on a given set of data. Runs T\n",
        "    iterations through the data set, there is no need to worry about\n",
        "    stopping early.\n",
        "\n",
        "    For each update, set learning rate = 1/sqrt(t),\n",
        "    where t is a counter for the number of updates performed so far (between 1\n",
        "    and nT inclusive).\n",
        "\n",
        "    NOTE: Please use the previously implemented functions when applicable.\n",
        "    Do not copy paste code from previous parts.\n",
        "\n",
        "    Args:\n",
        "        feature_matrix - A numpy matrix describing the given data. Each row\n",
        "            represents a single data point.\n",
        "        labels - A numpy array where the kth element of the array is the\n",
        "            correct classification of the kth row of the feature matrix.\n",
        "        T - An integer indicating how many times the algorithm\n",
        "            should iterate through the feature matrix.\n",
        "        L - The lamba value being used to update the Pegasos\n",
        "            algorithm parameters.\n",
        "\n",
        "    Returns: A tuple where the first element is a numpy array with the value of\n",
        "    the theta, the linear classification parameter, found after T\n",
        "    iterations through the feature matrix and the second element is a real\n",
        "    number with the value of the theta_0, the offset classification\n",
        "    parameter, found after T iterations through the feature matrix.\n",
        "    \"\"\"\n",
        "    # Your code here"
      ],
      "metadata": {
        "id": "5xIEjWQKp7WI"
      },
      "execution_count": null,
      "outputs": []
    },
    {
      "cell_type": "markdown",
      "source": [
        "# The Data\n",
        "\n",
        "The data consists of several reviews, each of which has been labeled with `−1` or `+1`, corresponding to a negative or positive review, respectively. The original data has been split into four files:\n",
        "\n",
        "- `reviews_train.tsv` (4000 examples)\n",
        "- `reviews_validation.tsv` (500 examples)\n",
        "- `reviews_test.tsv` (500 examples)\n",
        "\n",
        "To get a feel for how the data looks, we suggest first opening the files with a text editor, spreadsheet program, or other scientific software package (like pandas).\n",
        "\n",
        "# Translating reviews to feature vectors\n",
        "\n",
        "We will convert review texts into feature vectors using a bag of words approach. We start by compiling all the words that appear in a training set of reviews into a dictionary, thereby producing a list of $ d $ unique words.\n",
        "\n",
        "We can then transform each of the reviews into a feature vector of length $d$ by setting the $i^{th}$ coordinate of the feature vector to 1 if the $i^{th}$ word in the dictionary appears in the review, or 0 otherwise. For instance, consider two simple documents \"Mary loves apples\" and \"Red apples\". In this case, the dictionary is the set `{'mary', 'loves', 'apples', 'red'}`, and the documents are represented as `(1, 1, 1, 0)` and `(0, 0, 1, 1)`.\n",
        "\n",
        "A bag of words model can be easily expanded to include phrases of length $m$. A unigram model is the case for which $m = 1$. In the example, the unigram dictionary would be `{'mary', 'loves', 'apples', 'red'}`. In the bigram case, $m = 2$, the dictionary is `{'mary loves', 'loves apples', 'red apples'}`, and representations for each sample are `(1, 1, 0)`, `(0, 0, 1)`. In this section, you will only use the unigram word features. These functions are already implemented for you in the bag of words function.\n",
        "\n",
        "In `utils.py`, we have supplied you with the `load_data` function, which can be used to read the `.tsv` files and returns the labels and texts. We have also supplied you with the `bag_of_words` function in `project1.py`, which takes the raw data and returns dictionary of unigram words. The resulting dictionary is an input to `extract_bow_feature_vectors` which computes a feature matrix of ones and zeros that can be used as the input for the classification algorithms. Using the feature matrix and your implementation of learning algorithms from before, you will be able to compute $\\theta$ and $\\theta_0$.\n"
      ],
      "metadata": {
        "id": "-rpidG06qAsl"
      }
    },
    {
      "cell_type": "markdown",
      "source": [
        "# Classification and Accuracy\n",
        "\n",
        "Now we need a way to actually use our model to classify the data points. In this section, you will implement a way to classify the data points using your model parameters, and then measure the accuracy of your model.\n",
        "\n",
        "## Classification\n",
        "\n",
        "**1 point**\n",
        "\n",
        "Implement a classification function that uses $\\theta$ and $\\theta_0$ to classify a set of data points. You are given the feature matrix, $\\theta$, and $\\theta_0$ as defined in previous sections. This function should return a numpy array of $-1$s and $1$s. If a prediction is greater than zero, it should be considered a positive classification.\n",
        "\n",
        "**Available Functions**: You have access to the NumPy python library as `np`.\n",
        "\n",
        "**Tip**: As in previous exercises, when $x$ is a float, $x = 0$ should be checked with $|x| < \\epsilon$.\n"
      ],
      "metadata": {
        "id": "et0Pji_orNeb"
      }
    },
    {
      "cell_type": "code",
      "source": [
        "def classify(feature_matrix, theta, theta_0):\n",
        "    \"\"\"\n",
        "    A classification function that uses theta and theta_0 to classify a set of\n",
        "    data points.\n",
        "\n",
        "    Args:\n",
        "        feature_matrix - A numpy matrix describing the given data. Each row\n",
        "            represents a single data point.\n",
        "                theta - A numpy array describing the linear classifier.\n",
        "        theta - A numpy array describing the linear classifier.\n",
        "        theta_0 - A real valued number representing the offset parameter.\n",
        "\n",
        "    Returns: A numpy array of 1s and -1s where the kth element of the array is\n",
        "    the predicted classification of the kth row of the feature matrix using the\n",
        "    given theta and theta_0. If a prediction is GREATER THAN zero, it should\n",
        "    be considered a positive classification.\n",
        "    \"\"\"\n",
        "    # Your code here"
      ],
      "metadata": {
        "id": "ghCUulc6saEU"
      },
      "execution_count": null,
      "outputs": []
    },
    {
      "cell_type": "markdown",
      "source": [
        "# Accuracy\n",
        "\n",
        "**1 point**\n",
        "\n",
        "We have supplied you with an `accuracy` function:\n",
        "\n",
        "```python\n",
        "def accuracy(preds, targets):\n",
        "    \"\"\"\n",
        "    Given length-N vectors containing predicted and target labels,\n",
        "    returns the percentage and number of correct predictions.\n",
        "    \"\"\"\n",
        "    return (preds == targets).mean()\n",
        "```\n",
        "\n",
        "The `accuracy` function takes a numpy array of predicted labels and a numpy array of actual labels and returns the prediction accuracy. You should use this function along with the functions that you have implemented thus far in order to implement `classifier_accuracy`.\n",
        "\n",
        "The `classifier_accuracy` function should take 6 arguments:\n",
        "\n",
        "- a classifier function that, itself, takes arguments (`feature_matrix, labels, **kwargs`)\n",
        "- the training feature matrix\n",
        "- the validation feature matrix\n",
        "- the training labels\n",
        "- the validation labels\n",
        "- a `**kwargs` argument to be passed to the classifier function\n",
        "\n",
        "This function should train the given classifier using the training data and then compute the classification accuracy on both the train and validation data. The return values should be a tuple where the first value is the training accuracy and the second value is the validation accuracy.\n",
        "\n",
        "Implement classifier accuracy in the coding box below:\n",
        "\n",
        "**Available Functions**: You have access to the NumPy python library as `np`, to `classify` which you have already implemented and to `accuracy` which we defined above.\n"
      ],
      "metadata": {
        "id": "UAkvP2BYs55f"
      }
    },
    {
      "cell_type": "code",
      "source": [
        "def classifier_accuracy(\n",
        "        classifier,\n",
        "        train_feature_matrix,\n",
        "        val_feature_matrix,\n",
        "        train_labels,\n",
        "        val_labels,\n",
        "        **kwargs):\n",
        "    \"\"\"\n",
        "    Trains a linear classifier and computes accuracy.\n",
        "    The classifier is trained on the train data. The classifier's\n",
        "    accuracy on the train and validation data is then returned.\n",
        "\n",
        "    Args:\n",
        "        classifier - A classifier function that takes arguments\n",
        "            (feature matrix, labels, **kwargs) and returns (theta, theta_0)\n",
        "        train_feature_matrix - A numpy matrix describing the training\n",
        "            data. Each row represents a single data point.\n",
        "        val_feature_matrix - A numpy matrix describing the training\n",
        "            data. Each row represents a single data point.\n",
        "        train_labels - A numpy array where the kth element of the array\n",
        "            is the correct classification of the kth row of the training\n",
        "            feature matrix.\n",
        "        val_labels - A numpy array where the kth element of the array\n",
        "            is the correct classification of the kth row of the validation\n",
        "            feature matrix.\n",
        "        **kwargs - Additional named arguments to pass to the classifier\n",
        "            (e.g. T or L)\n",
        "\n",
        "    Returns: A tuple in which the first element is the (scalar) accuracy of the\n",
        "    trained classifier on the training data and the second element is the\n",
        "    accuracy of the trained classifier on the validation data.\n",
        "    \"\"\"\n",
        "    # Your code here"
      ],
      "metadata": {
        "id": "8hLMpDG3t5Um"
      },
      "execution_count": null,
      "outputs": []
    },
    {
      "cell_type": "markdown",
      "source": [
        "# Baseline Accuracy\n",
        "\n",
        "**3 points**\n",
        "\n",
        "Now, uncomment the relevant lines in `main.py` and report the training and validation accuracies of each algorithm with $T = 10$ and $\\lambda = 0.01$ (the $\\lambda$ value only applies to Pegasos).\n",
        "\n",
        "Please enter the validation accuracy of your Perceptron algorithm (`perceptron_validation_accuracy`).\n",
        "\n",
        "Please enter the validation accuracy of your Average Perceptron algorithm (`average_perceptron_validation_accuracy`).\n",
        "\n",
        "Please enter the validation accuracy of your Pegasos algorithm (`pegasos_validation_accuracy`).\n"
      ],
      "metadata": {
        "id": "pRHlOAR0ucf5"
      }
    },
    {
      "cell_type": "code",
      "source": [
        "# replace None with the correct validation accuracy\n",
        "perceptron_validation_accuracy = None\n",
        "average_perceptron_validation_accuracy = None\n",
        "pegasos_validation_accuracy = None"
      ],
      "metadata": {
        "id": "wNo2ffEid8BH"
      },
      "execution_count": null,
      "outputs": []
    },
    {
      "cell_type": "markdown",
      "source": [
        "# Parameter Tuning\n",
        "\n",
        "You finally have your algorithms up and running, and a way to measure performance! But, it's still unclear what values the hyperparameters like $T$ and $\\lambda$ should have. In this section, you'll tune these hyperparameters to maximize the performance of each model.\n",
        "\n",
        "One way to tune your hyperparameters for any given Machine Learning algorithm is to perform a grid search over all the possible combinations of values. If your hyperparameters can be any real number, you will need to limit the search to some finite set of possible values for each hyperparameter. For efficiency reasons, often you might want to tune one individual parameter, keeping all others constant, and then move onto the next one; Compared to a full grid search there are many fewer possible combinations to check, and this is what you'll be doing for the questions below.\n",
        "\n",
        "In `main.py` uncomment Problem 8 to run the provided tuning algorithm from `utils.py`. For the purposes of this assignment, please try the following values for $T: [1, 5, 10, 15, 25, 50]$ and the following values for $\\lambda: [0.001, 0.01, 0.1, 1, 10]$. For the Pegasos algorithm, first fix $\\lambda = 0.01$ to tune $T$, and then use the best $T$ to tune $\\lambda$.\n"
      ],
      "metadata": {
        "id": "COBETD7-vDjm"
      }
    },
    {
      "cell_type": "markdown",
      "source": [
        "# Performance After Tuning\n",
        "\n",
        "**7 points**\n",
        "\n",
        "After tuning, please enter the best $T$ value for each of the perceptron and average perceptron algorithms, and both the best $T$ and $\\lambda$ for the Pegasos algorithm.\n",
        "\n",
        "**Note**: Just enter the values printed in your `main.py`. Note that for the Pegasos algorithm, the result does not reflect the best combination of $T$ and $\\lambda$.\n",
        "\n",
        "For the **perceptron algorithm**:\n",
        "- $T$ =\n",
        "- With validation accuracy =\n",
        "\n",
        "For the **average perceptron algorithm**:\n",
        "- $T$ =\n",
        "- With validation accuracy =\n",
        "\n",
        "For the **pegasos algorithm**:\n",
        "- $T$ =\n",
        "- $\\lambda$ =\n",
        "- With validation accuracy =\n"
      ],
      "metadata": {
        "id": "Ba2R-CSVvnJF"
      }
    },
    {
      "cell_type": "code",
      "source": [
        "# replace None with the correct values\n",
        "\n",
        "#For the perceptron algorithm:\n",
        "T_perceptron = None\n",
        "val_acc_perceptron = None\n",
        "\n",
        "#For the average perceptron algorithm:\n",
        "T_average_perceptron = None\n",
        "val_acc_average_perceptron = None\n",
        "\n",
        "#For the pagasos algorithm\n",
        "T_pegasos = None\n",
        "lambda_pegasos = None\n",
        "val_acc_pegasos = None"
      ],
      "metadata": {
        "id": "4Q7R-rb6gSl-"
      },
      "execution_count": null,
      "outputs": []
    },
    {
      "cell_type": "markdown",
      "source": [
        "# Accuracy on the test set\n",
        "\n",
        "**1 point**\n",
        "\n",
        "After you have chosen your best method (perceptron, average perceptron or Pegasos) and parameters, use this classifier to compute testing accuracy on the test set.\n",
        "\n",
        "We have supplied the feature matrix and labels in `main.py` as `test_bow_features` and `test_labels`.\n",
        "\n",
        "**Note**: In practice the validation set is used for tuning hyperparameters while a holdout test set is the final benchmark used to compare disparate models that have already been tuned. You may notice that your results using a validation set don't always align with those of the test set, and this is to be expected.\n",
        "\n",
        "Accuracy on the test set:\n"
      ],
      "metadata": {
        "id": "AaDADBQKv8Hr"
      }
    },
    {
      "cell_type": "code",
      "source": [
        "test_acc = None"
      ],
      "metadata": {
        "id": "sjsIGE-yhMg8"
      },
      "execution_count": null,
      "outputs": []
    },
    {
      "cell_type": "markdown",
      "source": [
        "# The most explanatory unigrams\n",
        "\n",
        "**10 points**\n",
        "\n",
        "According to the largest weights (i.e., individual $i$ values in your vector), you can find out which unigrams were the most impactful ones in predicting positive labels. Uncomment the relevant part in `main.py` to call `utils.most_explanatory_word`.\n",
        "\n",
        "Report the top ten most explanatory word features for positive classification below:\n",
        "\n",
        "Also experiment with finding unigrams that were the most impactful in predicting negative labels.\n"
      ],
      "metadata": {
        "id": "zQH9EDexxJuT"
      }
    },
    {
      "cell_type": "code",
      "source": [
        "# replace None with the correct features in descending order\n",
        "\n",
        "Top10Features = [None,None,None,None,None,None,None,None,None,None]"
      ],
      "metadata": {
        "id": "MDE7Ns1FhmlM"
      },
      "execution_count": null,
      "outputs": []
    },
    {
      "cell_type": "markdown",
      "source": [
        "# Feature Engineering\n",
        "\n",
        "Frequently, the way the data is represented can have a significant impact on the performance of a machine learning method. Try to improve the performance of your best classifier by using different features. In this problem, we will practice two simple variants of the bag of words (BoW) representation.\n",
        "\n",
        "## Remove Stop Words\n",
        "\n",
        "**(optional)**\n",
        "\n",
        "Try to implement stop words removal in your feature engineering code. Specifically, load the file `stopwords.txt`, remove the words in the file from your dictionary, and use features constructed from the new dictionary to train your model and make predictions.\n",
        "\n",
        "Compare your result in the testing data on Pegasos algorithm using $T = 25$ and $\\lambda = 0.01$ when you remove the words in `stopwords.txt` from your dictionary.\n",
        "\n",
        "**Hint**: Instead of replacing the feature matrix with zero columns on stop words, you can modify the `bag_of_words` function to prevent adding stopwords to the dictionary\n",
        "\n",
        "Accuracy on the test set using the original dictionary:\n",
        "\n",
        "Accuracy on the test set using the dictionary with stop words removed:\n"
      ],
      "metadata": {
        "id": "KDnpXJyjxQ5T"
      }
    },
    {
      "cell_type": "markdown",
      "source": [
        "## Change Binary Features to Counts Features\n",
        "\n",
        "**(optional)**\n",
        "\n",
        "Again, use the same learning algorithm and the same feature as the last problem. However, when you compute the feature vector of a word, use its count in each document rather than a binary indicator.\n",
        "\n",
        "**Hint**: You are free to modify the `extract_bow_feature_vectors` function to compute counts features.\n",
        "\n",
        "Accuracy on the test set using the dictionary with stop words removed and counts features:\n",
        "\n",
        "Try to compare your result to the last problem, and see the discussion in solution after answering the question.\n"
      ],
      "metadata": {
        "id": "7IKQvTxoxxNk"
      }
    },
    {
      "cell_type": "markdown",
      "source": [
        "Some additional features that you might want to explore are:\n",
        "\n",
        "- Length of the text\n",
        "- Occurrence of all-cap words (e.g. \"AMAZING\", \"DON'T BUY THIS\")\n",
        "- Word embeddings\n",
        "\n",
        "Besides adding new features, you can also change the original unigram feature set. For example,\n",
        "\n",
        "- Threshold the number of times a word should appear in the dataset before adding them to the dictionary. For example, words that occur less than three times across the train dataset could be considered irrelevant and thus can be removed. This lets you reduce the number of columns that are prone to overfitting.\n",
        "\n",
        "There are also many other things you could change when training your model. Try anything that can help you understand the sentiment of a review. It's worth looking through the dataset and coming up with some features that may help your model. Remember that not all features will actually help so you should experiment with some simpler ones before trying anything too complicated.\n"
      ],
      "metadata": {
        "id": "mpNsyO9ZyJ90"
      }
    }
  ]
}